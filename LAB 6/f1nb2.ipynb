{
 "cells": [
  {
   "cell_type": "code",
   "execution_count": null,
   "id": "c65f632c",
   "metadata": {},
   "outputs": [],
   "source": [
    "# %% [markdown]\n",
    "# # F1 Naive Bayes Analysis (Improved)\n",
    "# Enhanced feature engineering for better accuracy.\n",
    "\n",
    "# %%\n",
    "import fastf1\n",
    "import pandas as pd\n",
    "import numpy as np\n",
    "import matplotlib.pyplot as plt\n",
    "import seaborn as sns\n",
    "\n",
    "from sklearn.model_selection import train_test_split\n",
    "from sklearn.preprocessing import StandardScaler\n",
    "from sklearn.naive_bayes import GaussianNB\n",
    "from sklearn.metrics import classification_report, confusion_matrix, ConfusionMatrixDisplay\n",
    "\n",
    "# Config\n",
    "RACE_YEAR = 2023\n",
    "RACE_GP = \"Bahrain\"\n",
    "RACE_TYPE = \"R\"\n",
    "\n",
    "import logging\n",
    "logging.getLogger(\"fastf1\").setLevel(logging.WARNING)\n"
   ]
  }
 ],
 "metadata": {
  "language_info": {
   "name": "python"
  }
 },
 "nbformat": 4,
 "nbformat_minor": 5
}
