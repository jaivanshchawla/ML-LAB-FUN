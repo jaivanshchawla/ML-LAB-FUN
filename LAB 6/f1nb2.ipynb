{
 "cells": [
  {
   "cell_type": "code",
   "execution_count": null,
   "id": "c65f632c",
   "metadata": {},
   "outputs": [
    {
     "name": "stdout",
     "output_type": "stream",
     "text": [
      "Jaivansh Chawla Naive Bayes ML Lab\n"
     ]
    }
   ],
   "source": [
    "import fastf1\n",
    "import pandas as pd\n",
    "import numpy as np\n",
    "import matplotlib.pyplot as plt\n",
    "import seaborn as sns\n",
    "from sklearn.model_selection import train_test_split\n",
    "from sklearn.preprocessing import StandardScaler\n",
    "from sklearn.naive_bayes import GaussianNB\n",
    "from sklearn.metrics import classification_report, confusion_matrix, ConfusionMatrixDisplay\n",
    "RACE_YEAR = 2023\n",
    "RACE_GP = \"Bahrain\"\n",
    "RACE_TYPE = \"R\"\n",
    "import logging\n",
    "logging.getLogger(\"fastf1\").setLevel(logging.WARNING)\n",
    "print(\"Jaivansh Chawla Naive Bayes ML Lab\")"
   ]
  },
  {
   "cell_type": "code",
   "execution_count": null,
   "id": "e8a19de4",
   "metadata": {},
   "outputs": [
    {
     "name": "stdout",
     "output_type": "stream",
     "text": [
      "Loaded 826 laps for 2023 Bahrain\n",
      "Laps dataset shape (before cleaning): (826, 31)\n"
     ]
    }
   ],
   "source": [
    "session = fastf1.get_session(RACE_YEAR, RACE_GP, RACE_TYPE)\n",
    "session.load()\n",
    "laps = session.laps.pick_quicklaps()  # drop in/out laps\n",
    "weather = session.weather_data\n",
    "print(f\"Loaded {len(laps)} laps for {RACE_YEAR} {RACE_GP}\")\n",
    "print(f\"Laps dataset shape (before cleaning): {laps.shape}\")"
   ]
  },
  {
   "cell_type": "code",
   "execution_count": null,
   "id": "3f661137",
   "metadata": {},
   "outputs": [
    {
     "name": "stdout",
     "output_type": "stream",
     "text": [
      "✅ Lap dataset ready\n",
      "→ Shape: (476, 15)\n",
      "→ Class distribution: {'Slow': 244, 'Fast': 232}\n"
     ]
    },
    {
     "name": "stderr",
     "output_type": "stream",
     "text": [
      "C:\\Users\\Jaivansh Chawla\\AppData\\Local\\Temp\\ipykernel_22632\\3438294778.py:17: FutureWarning: Laps.fillna with 'method' is deprecated and will raise in a future version. Use obj.ffill() or obj.bfill() instead.\n",
      "  ).fillna(method=\"ffill\")\n"
     ]
    },
    {
     "data": {
      "text/html": [
       "<div>\n",
       "<style scoped>\n",
       "    .dataframe tbody tr th:only-of-type {\n",
       "        vertical-align: middle;\n",
       "    }\n",
       "\n",
       "    .dataframe tbody tr th {\n",
       "        vertical-align: top;\n",
       "    }\n",
       "\n",
       "    .dataframe thead th {\n",
       "        text-align: right;\n",
       "    }\n",
       "</style>\n",
       "<table border=\"1\" class=\"dataframe\">\n",
       "  <thead>\n",
       "    <tr style=\"text-align: right;\">\n",
       "      <th></th>\n",
       "      <th>Driver</th>\n",
       "      <th>LapNumber</th>\n",
       "      <th>LapTime</th>\n",
       "      <th>Sector1Time</th>\n",
       "      <th>Sector2Time</th>\n",
       "      <th>Sector3Time</th>\n",
       "      <th>SpeedI1</th>\n",
       "      <th>SpeedI2</th>\n",
       "      <th>SpeedFL</th>\n",
       "      <th>SpeedST</th>\n",
       "      <th>LapTimeNorm</th>\n",
       "      <th>AirTemp</th>\n",
       "      <th>TrackTemp</th>\n",
       "      <th>Humidity</th>\n",
       "      <th>Class</th>\n",
       "    </tr>\n",
       "  </thead>\n",
       "  <tbody>\n",
       "    <tr>\n",
       "      <th>1</th>\n",
       "      <td>VER</td>\n",
       "      <td>2.0</td>\n",
       "      <td>97.974</td>\n",
       "      <td>31.342</td>\n",
       "      <td>42.504</td>\n",
       "      <td>24.128</td>\n",
       "      <td>227.0</td>\n",
       "      <td>238.0</td>\n",
       "      <td>278.0</td>\n",
       "      <td>288.0</td>\n",
       "      <td>1.006027</td>\n",
       "      <td>29.7</td>\n",
       "      <td>35.0</td>\n",
       "      <td>19.0</td>\n",
       "      <td>Slow</td>\n",
       "    </tr>\n",
       "    <tr>\n",
       "      <th>3</th>\n",
       "      <td>VER</td>\n",
       "      <td>4.0</td>\n",
       "      <td>97.976</td>\n",
       "      <td>31.271</td>\n",
       "      <td>42.642</td>\n",
       "      <td>24.063</td>\n",
       "      <td>228.0</td>\n",
       "      <td>238.0</td>\n",
       "      <td>278.0</td>\n",
       "      <td>289.0</td>\n",
       "      <td>1.006048</td>\n",
       "      <td>29.6</td>\n",
       "      <td>34.9</td>\n",
       "      <td>19.0</td>\n",
       "      <td>Slow</td>\n",
       "    </tr>\n",
       "    <tr>\n",
       "      <th>5</th>\n",
       "      <td>VER</td>\n",
       "      <td>6.0</td>\n",
       "      <td>97.986</td>\n",
       "      <td>31.341</td>\n",
       "      <td>42.632</td>\n",
       "      <td>24.013</td>\n",
       "      <td>229.0</td>\n",
       "      <td>239.0</td>\n",
       "      <td>279.0</td>\n",
       "      <td>291.0</td>\n",
       "      <td>1.006151</td>\n",
       "      <td>29.6</td>\n",
       "      <td>34.7</td>\n",
       "      <td>19.0</td>\n",
       "      <td>Slow</td>\n",
       "    </tr>\n",
       "    <tr>\n",
       "      <th>6</th>\n",
       "      <td>VER</td>\n",
       "      <td>7.0</td>\n",
       "      <td>98.021</td>\n",
       "      <td>31.290</td>\n",
       "      <td>42.763</td>\n",
       "      <td>23.968</td>\n",
       "      <td>230.0</td>\n",
       "      <td>239.0</td>\n",
       "      <td>279.0</td>\n",
       "      <td>293.0</td>\n",
       "      <td>1.006510</td>\n",
       "      <td>29.6</td>\n",
       "      <td>34.7</td>\n",
       "      <td>19.0</td>\n",
       "      <td>Slow</td>\n",
       "    </tr>\n",
       "    <tr>\n",
       "      <th>11</th>\n",
       "      <td>VER</td>\n",
       "      <td>12.0</td>\n",
       "      <td>98.591</td>\n",
       "      <td>31.408</td>\n",
       "      <td>42.951</td>\n",
       "      <td>24.232</td>\n",
       "      <td>231.0</td>\n",
       "      <td>241.0</td>\n",
       "      <td>278.0</td>\n",
       "      <td>294.0</td>\n",
       "      <td>1.012363</td>\n",
       "      <td>29.5</td>\n",
       "      <td>34.1</td>\n",
       "      <td>18.0</td>\n",
       "      <td>Slow</td>\n",
       "    </tr>\n",
       "  </tbody>\n",
       "</table>\n",
       "</div>"
      ],
      "text/plain": [
       "   Driver  LapNumber  LapTime  Sector1Time  Sector2Time  Sector3Time  SpeedI1  \\\n",
       "1     VER        2.0   97.974       31.342       42.504       24.128    227.0   \n",
       "3     VER        4.0   97.976       31.271       42.642       24.063    228.0   \n",
       "5     VER        6.0   97.986       31.341       42.632       24.013    229.0   \n",
       "6     VER        7.0   98.021       31.290       42.763       23.968    230.0   \n",
       "11    VER       12.0   98.591       31.408       42.951       24.232    231.0   \n",
       "\n",
       "    SpeedI2  SpeedFL  SpeedST  LapTimeNorm  AirTemp  TrackTemp  Humidity Class  \n",
       "1     238.0    278.0    288.0     1.006027     29.7       35.0      19.0  Slow  \n",
       "3     238.0    278.0    289.0     1.006048     29.6       34.9      19.0  Slow  \n",
       "5     239.0    279.0    291.0     1.006151     29.6       34.7      19.0  Slow  \n",
       "6     239.0    279.0    293.0     1.006510     29.6       34.7      19.0  Slow  \n",
       "11    241.0    278.0    294.0     1.012363     29.5       34.1      18.0  Slow  "
      ]
     },
     "execution_count": 21,
     "metadata": {},
     "output_type": "execute_result"
    }
   ],
   "source": [
    "features = [\"LapTime\", \"Sector1Time\", \"Sector2Time\", \"Sector3Time\",\n",
    "            \"SpeedI1\", \"SpeedI2\", \"SpeedFL\", \"SpeedST\"]\n",
    "df = laps[[\"Driver\", \"LapNumber\"] + features].dropna().copy()\n",
    "# Convert to seconds\n",
    "for col in [\"LapTime\", \"Sector1Time\", \"Sector2Time\", \"Sector3Time\"]:\n",
    "    df[col] = df[col].dt.total_seconds()\n",
    "# Remove outlier laps (way too slow)\n",
    "df = df[df[\"LapTime\"] < df[\"LapTime\"].quantile(0.95)]\n",
    "# Normalize LapTime per driver (relative pace)\n",
    "df[\"LapTimeNorm\"] = df.groupby(\"Driver\")[\"LapTime\"].transform(\n",
    "    lambda x: x / x.median()\n",
    ")\n",
    "# Add weather (merge nearest by lap number)\n",
    "df = df.merge(\n",
    "    weather[[\"AirTemp\", \"TrackTemp\", \"Humidity\"]],\n",
    "    left_index=True, right_index=True, how=\"left\"\n",
    ").fillna(method=\"ffill\")\n",
    "# Label: Fast if normalized lap time < 1\n",
    "df[\"Class\"] = np.where(df[\"LapTimeNorm\"] < 1, \"Fast\", \"Slow\")\n",
    "print(f\"✅ Lap dataset ready\")\n",
    "print(f\"→ Shape: {df.shape}\")\n",
    "print(f\"→ Class distribution: {df['Class'].value_counts().to_dict()}\")\n",
    "df.head()"
   ]
  },
  {
   "cell_type": "code",
   "execution_count": null,
   "id": "e2dbc259",
   "metadata": {},
   "outputs": [
    {
     "name": "stdout",
     "output_type": "stream",
     "text": [
      "              precision    recall  f1-score   support\n",
      "\n",
      "        Fast       0.75      0.91      0.83        47\n",
      "        Slow       0.90      0.71      0.80        49\n",
      "\n",
      "    accuracy                           0.81        96\n",
      "   macro avg       0.83      0.81      0.81        96\n",
      "weighted avg       0.83      0.81      0.81        96\n",
      "\n"
     ]
    }
   ],
   "source": [
    "lap_features = [\"Sector1Time\", \"Sector2Time\", \"Sector3Time\",\"SpeedI1\", \"SpeedI2\", \"SpeedFL\", \"SpeedST\",\"AirTemp\", \"TrackTemp\", \"Humidity\"]\n",
    "X = df[lap_features]\n",
    "y = df[\"Class\"]\n",
    "# Scale features\n",
    "scaler = StandardScaler()\n",
    "X_scaled = scaler.fit_transform(X)\n",
    "X_train, X_test, y_train, y_test = train_test_split(\n",
    "    X_scaled, y, test_size=0.2, stratify=y, random_state=42\n",
    ")\n",
    "nb = GaussianNB()\n",
    "nb.fit(X_train, y_train)\n",
    "\n",
    "y_pred = nb.predict(X_test)\n",
    "print(classification_report(y_test, y_pred))\n"
   ]
  },
  {
   "cell_type": "code",
   "execution_count": null,
   "id": "470f5002",
   "metadata": {},
   "outputs": [
    {
     "data": {
      "image/png": "[encoded data removed]",
      "text/plain": [
       "<Figure size 640x480 with 2 Axes>"
      ]
     },
     "metadata": {},
     "output_type": "display_data"
    }
   ],
   "source": [
    "cm = confusion_matrix(y_test, y_pred, labels=nb.classes_)\n",
    "disp = ConfusionMatrixDisplay(confusion_matrix=cm, display_labels=nb.classes_)\n",
    "disp.plot(cmap=\"Blues\", values_format=\"d\")\n",
    "plt.title(\"Naive Bayes - Confusion Matrix (Lap-Level)\")\n",
    "plt.show()"
   ]
  },
  {
   "cell_type": "code",
   "execution_count": null,
   "id": "05f703a4",
   "metadata": {},
   "outputs": [
    {
     "name": "stdout",
     "output_type": "stream",
     "text": [
      "✅ Driver-level dataset ready\n",
      "→ Shape: (19, 10)\n",
      "→ Drivers: 19\n"
     ]
    },
    {
     "data": {
      "text/html": [
       "<div>\n",
       "<style scoped>\n",
       "    .dataframe tbody tr th:only-of-type {\n",
       "        vertical-align: middle;\n",
       "    }\n",
       "\n",
       "    .dataframe tbody tr th {\n",
       "        vertical-align: top;\n",
       "    }\n",
       "\n",
       "    .dataframe thead th {\n",
       "        text-align: right;\n",
       "    }\n",
       "</style>\n",
       "<table border=\"1\" class=\"dataframe\">\n",
       "  <thead>\n",
       "    <tr style=\"text-align: right;\">\n",
       "      <th></th>\n",
       "      <th>Driver</th>\n",
       "      <th>AvgLap</th>\n",
       "      <th>BestLap</th>\n",
       "      <th>LapStd</th>\n",
       "      <th>NormLap</th>\n",
       "      <th>AvgST</th>\n",
       "      <th>AvgFL</th>\n",
       "      <th>Position</th>\n",
       "      <th>Winner</th>\n",
       "      <th>Top6</th>\n",
       "    </tr>\n",
       "  </thead>\n",
       "  <tbody>\n",
       "    <tr>\n",
       "      <th>0</th>\n",
       "      <td>ALB</td>\n",
       "      <td>98.378667</td>\n",
       "      <td>97.144</td>\n",
       "      <td>0.910528</td>\n",
       "      <td>1.002800</td>\n",
       "      <td>311.888889</td>\n",
       "      <td>286.000000</td>\n",
       "      <td>10.0</td>\n",
       "      <td>0</td>\n",
       "      <td>0</td>\n",
       "    </tr>\n",
       "    <tr>\n",
       "      <th>1</th>\n",
       "      <td>ALO</td>\n",
       "      <td>98.003792</td>\n",
       "      <td>96.726</td>\n",
       "      <td>1.005498</td>\n",
       "      <td>1.002519</td>\n",
       "      <td>305.125000</td>\n",
       "      <td>281.458333</td>\n",
       "      <td>3.0</td>\n",
       "      <td>0</td>\n",
       "      <td>1</td>\n",
       "    </tr>\n",
       "    <tr>\n",
       "      <th>2</th>\n",
       "      <td>BOT</td>\n",
       "      <td>98.354724</td>\n",
       "      <td>97.379</td>\n",
       "      <td>0.851134</td>\n",
       "      <td>1.005097</td>\n",
       "      <td>291.827586</td>\n",
       "      <td>278.137931</td>\n",
       "      <td>8.0</td>\n",
       "      <td>0</td>\n",
       "      <td>0</td>\n",
       "    </tr>\n",
       "    <tr>\n",
       "      <th>3</th>\n",
       "      <td>DEV</td>\n",
       "      <td>98.733500</td>\n",
       "      <td>97.709</td>\n",
       "      <td>0.696057</td>\n",
       "      <td>0.998534</td>\n",
       "      <td>297.875000</td>\n",
       "      <td>280.187500</td>\n",
       "      <td>14.0</td>\n",
       "      <td>0</td>\n",
       "      <td>0</td>\n",
       "    </tr>\n",
       "    <tr>\n",
       "      <th>4</th>\n",
       "      <td>GAS</td>\n",
       "      <td>97.467522</td>\n",
       "      <td>95.068</td>\n",
       "      <td>1.170565</td>\n",
       "      <td>0.996998</td>\n",
       "      <td>306.000000</td>\n",
       "      <td>282.782609</td>\n",
       "      <td>9.0</td>\n",
       "      <td>0</td>\n",
       "      <td>0</td>\n",
       "    </tr>\n",
       "  </tbody>\n",
       "</table>\n",
       "</div>"
      ],
      "text/plain": [
       "  Driver     AvgLap  BestLap    LapStd   NormLap       AvgST       AvgFL  \\\n",
       "0    ALB  98.378667   97.144  0.910528  1.002800  311.888889  286.000000   \n",
       "1    ALO  98.003792   96.726  1.005498  1.002519  305.125000  281.458333   \n",
       "2    BOT  98.354724   97.379  0.851134  1.005097  291.827586  278.137931   \n",
       "3    DEV  98.733500   97.709  0.696057  0.998534  297.875000  280.187500   \n",
       "4    GAS  97.467522   95.068  1.170565  0.996998  306.000000  282.782609   \n",
       "\n",
       "   Position  Winner  Top6  \n",
       "0      10.0       0     0  \n",
       "1       3.0       0     1  \n",
       "2       8.0       0     0  \n",
       "3      14.0       0     0  \n",
       "4       9.0       0     0  "
      ]
     },
     "execution_count": 24,
     "metadata": {},
     "output_type": "execute_result"
    }
   ],
   "source": [
    "results = session.results\n",
    "driver_summary = df.groupby(\"Driver\").agg({\n",
    "    \"LapTime\": [\"mean\", \"min\", \"std\"],\n",
    "    \"LapTimeNorm\": \"mean\",\n",
    "    \"SpeedST\": \"mean\",\n",
    "    \"SpeedFL\": \"mean\"\n",
    "}).reset_index()\n",
    "driver_summary.columns = [\"Driver\", \"AvgLap\", \"BestLap\", \"LapStd\",\n",
    "                          \"NormLap\", \"AvgST\", \"AvgFL\"]\n",
    "# Merge with final results\n",
    "driver_summary = driver_summary.merge(\n",
    "    results[[\"Abbreviation\", \"Position\"]],\n",
    "    left_on=\"Driver\", right_on=\"Abbreviation\", how=\"left\"\n",
    ").drop(columns=\"Abbreviation\")\n",
    "# Labels\n",
    "driver_summary[\"Winner\"] = (driver_summary[\"Position\"] == 1).astype(int)\n",
    "driver_summary[\"Top6\"] = (driver_summary[\"Position\"] <= 6).astype(int)\n",
    "print(f\"✅ Driver-level dataset ready\")\n",
    "print(f\"→ Shape: {driver_summary.shape}\")\n",
    "print(f\"→ Drivers: {driver_summary['Driver'].nunique()}\")\n",
    "driver_summary.head()"
   ]
  },
  {
   "cell_type": "code",
   "execution_count": null,
   "id": "9d06b096",
   "metadata": {},
   "outputs": [
    {
     "name": "stdout",
     "output_type": "stream",
     "text": [
      "              precision    recall  f1-score   support\n",
      "\n",
      "           0       0.75      0.75      0.75         4\n",
      "           1       0.50      0.50      0.50         2\n",
      "\n",
      "    accuracy                           0.67         6\n",
      "   macro avg       0.62      0.62      0.62         6\n",
      "weighted avg       0.67      0.67      0.67         6\n",
      "\n"
     ]
    }
   ],
   "source": [
    "X_driver = driver_summary[[\"AvgLap\", \"BestLap\", \"LapStd\", \"NormLap\", \"AvgST\", \"AvgFL\"]]\n",
    "y_driver = driver_summary[\"Top6\"]\n",
    "scaler_d = StandardScaler()\n",
    "X_driver_scaled = scaler_d.fit_transform(X_driver)\n",
    "X_train_d, X_test_d, y_train_d, y_test_d = train_test_split(\n",
    "    X_driver_scaled, y_driver, test_size=0.3, random_state=42, stratify=y_driver\n",
    ")\n",
    "nb_driver = GaussianNB()\n",
    "nb_driver.fit(X_train_d, y_train_d)\n",
    "y_pred_d = nb_driver.predict(X_test_d)\n",
    "print(classification_report(y_test_d, y_pred_d))"
   ]
  },
  {
   "cell_type": "code",
   "execution_count": null,
   "id": "742d712e",
   "metadata": {},
   "outputs": [
    {
     "data": {
      "image/png": "[encoded data removed]",
      "text/plain": [
       "<Figure size 640x480 with 2 Axes>"
      ]
     },
     "metadata": {},
     "output_type": "display_data"
    }
   ],
   "source": [
    "cm_d = confusion_matrix(y_test_d, y_pred_d)\n",
    "disp_d = ConfusionMatrixDisplay(confusion_matrix=cm_d, display_labels=[\"Not Top6\", \"Top6\"])\n",
    "disp_d.plot(cmap=\"Purples\", values_format=\"d\")\n",
    "plt.title(\"Naive Bayes - Driver Top6 Prediction\")\n",
    "plt.show()"
   ]
  },
  {
   "cell_type": "code",
   "execution_count": null,
   "id": "34f755ee",
   "metadata": {},
   "outputs": [
    {
     "name": "stdout",
     "output_type": "stream",
     "text": [
      "Lap-level dataset size: 476 samples, 15 features\n",
      "Driver-level dataset size: 19 samples, 10 features\n",
      "\n",
      "Fast sector times (90% mean)\n",
      "  → Fast=0.00, Slow=1.00\n",
      "\n",
      "Slow sector times (110% mean)\n",
      "  → Fast=0.00, Slow=1.00\n",
      "\n",
      "🔍 Checking driver: Max Verstappen (row count: 1)\n",
      "Max Verstappen Probabilities:\n",
      "→ NotTop6=0.00, Top6=1.00\n",
      "→ Winner Probability=1.00\n"
     ]
    }
   ],
   "source": [
    "print(f\"Lap-level dataset size: {df.shape[0]} samples, {df.shape[1]} features\")\n",
    "print(f\"Driver-level dataset size: {driver_summary.shape[0]} samples, {driver_summary.shape[1]} features\\n\")\n",
    "queries = [\n",
    "    (\"Fast sector times (90% mean)\", (df[lap_features].mean() * 0.9).to_frame().T),\n",
    "    (\"Slow sector times (110% mean)\", (df[lap_features].mean() * 1.1).to_frame().T),\n",
    "]\n",
    "for q, x in queries:\n",
    "    x_scaled = scaler.transform(x)\n",
    "    prob = nb.predict_proba(x_scaled)[0]\n",
    "    print(f\"{q}\\n  → Fast={prob[0]:.2f}, Slow={prob[1]:.2f}\\n\")\n",
    "max_data = driver_summary[driver_summary[\"Driver\"] == \"VER\"]\n",
    "if not max_data.empty:\n",
    "    print(f\"🔍 Checking driver: Max Verstappen (row count: {max_data.shape[0]})\")\n",
    "    x_max = max_data[[\"AvgLap\", \"BestLap\", \"LapStd\", \"NormLap\", \"AvgST\", \"AvgFL\"]]\n",
    "    x_max_scaled = scaler_d.transform(x_max)\n",
    "    proba_max = nb_driver.predict_proba(x_max_scaled)[0]\n",
    "    print(\"Max Verstappen Probabilities:\")\n",
    "    print(f\"→ NotTop6={proba_max[0]:.2f}, Top6={proba_max[1]:.2f}\")\n",
    "    # Winner model\n",
    "    y_winner = driver_summary[\"Winner\"]\n",
    "    nb_winner = GaussianNB().fit(X_driver_scaled, y_winner)\n",
    "    win_proba = nb_winner.predict_proba(x_max_scaled)[0]\n",
    "    print(f\"→ Winner Probability={win_proba[1]:.2f}\")\n"
   ]
  }
 ],
 "metadata": {
  "kernelspec": {
   "display_name": "Python 3",
   "language": "python",
   "name": "python3"
  },
  "language_info": {
   "codemirror_mode": {
    "name": "ipython",
    "version": 3
   },
   "file_extension": ".py",
   "mimetype": "text/x-python",
   "name": "python",
   "nbconvert_exporter": "python",
   "pygments_lexer": "ipython3",
   "version": "3.12.3"
  }
 },
 "nbformat": 4,
 "nbformat_minor": 5
}
