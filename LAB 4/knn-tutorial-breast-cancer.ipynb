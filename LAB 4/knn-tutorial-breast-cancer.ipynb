{
 "cells": [
  {
   "cell_type": "markdown",
   "id": "7617f0f8",
   "metadata": {
    "papermill": {
     "duration": 0.009108,
     "end_time": "2022-10-31T08:34:43.529355",
     "exception": false,
     "start_time": "2022-10-31T08:34:43.520247",
     "status": "completed"
    },
    "tags": []
   },
   "source": [
    "# <div class=\"alert alert-block alert-success\" dir=\"rtl\" style=\"text-align: center;\"><strong><span style=\"font-size: 20pt\">Breast Cancer Using KNN Algorithm <br /></span></strong></div>"
   ]
  },
  {
   "cell_type": "markdown",
   "id": "f44000ac",
   "metadata": {
    "papermill": {
     "duration": 0.007441,
     "end_time": "2022-10-31T08:34:43.544838",
     "exception": false,
     "start_time": "2022-10-31T08:34:43.537397",
     "status": "completed"
    },
    "tags": []
   },
   "source": [
    "# <font color='blue'>What is K-Nearest Neighbor (KNN)?</font>\n",
    "It is a supervised machine learning algorithm. The algorithm can be used to solve both classification and regression problem statements.\n",
    "\n",
    "The number of nearest neighbours to a new unknown variable that has to be predicted or classified is denoted by the symbol ‘K’.\n",
    "\n",
    "Let’s take a good look at a related real-world scenario before we get started with this awesome algorithm.\n",
    "\n",
    "We are often notified that you share many characteristics with your nearest peers, whether it be your thinking process, working etiquettes, philosophies, or other factors. As a result, we build friendships with people we deem similar to us.\n",
    "\n",
    "The KNN algorithm employs the same principle. Its aim is to locate all of the closest neighbours around a new unknown data point in order to figure out what class it belongs to. It’s a distance-based approach."
   ]
  },
  {
   "cell_type": "markdown",
   "id": "8e24024d",
   "metadata": {
    "papermill": {
     "duration": 0.007449,
     "end_time": "2022-10-31T08:34:43.559948",
     "exception": false,
     "start_time": "2022-10-31T08:34:43.552499",
     "status": "completed"
    },
    "tags": []
   },
   "source": [
    "# <img src=\"https://www.researchgate.net/publication/343080916/figure/fig4/AS:915408186003458@1595261727790/K-Nearest-Neighbor-KNN-classification-principle.png\" width=50% />"
   ]
  },
  {
   "cell_type": "markdown",
   "id": "a3ca1894",
   "metadata": {
    "papermill": {
     "duration": 0.007509,
     "end_time": "2022-10-31T08:34:43.575641",
     "exception": false,
     "start_time": "2022-10-31T08:34:43.568132",
     "status": "completed"
    },
    "tags": []
   },
   "source": [
    "# <font color='red'>KNN in a Nutshell</font>\n",
    "1- Pick a value for K (i.e. 5)\n",
    "\n",
    "2- Take the K nearest neighbors of the new data point according to their Euclidean distance.\n",
    "# <img src = \"https://cdn-images-1.medium.com/max/800/1*ZrwEraj9S-u_KOWdKWc8sQ.png\" width=50%>\n",
    "3- Among these neighbors, count the number of data points in each category and assign the new data point to the category where you counted the most neighbors\n"
   ]
  },
  {
   "cell_type": "markdown",
   "id": "870a59d0",
   "metadata": {
    "papermill": {
     "duration": 0.0083,
     "end_time": "2022-10-31T08:34:43.591633",
     "exception": false,
     "start_time": "2022-10-31T08:34:43.583333",
     "status": "completed"
    },
    "tags": []
   },
   "source": [
    "#  <font color='green'>Algorithm</font>\n",
    "1- Load the data.\n",
    "\n",
    "2- Initialize K to your chosen number of neighbors.\n",
    "\n",
    "3- For each example in the data.\n",
    "\n",
    "3-1 Calculate the distance between the query example and the current example from the data.\n",
    "\n",
    "3-2 Add the distance and the index of the example to an ordered collection.\n",
    "\n",
    "4- Sort the ordered collection of distances and indices from smallest to largest (in ascending order) by the distances.\n",
    "\n",
    "5- Pick the first K entries from the sorted collection.\n",
    "\n",
    "6- Get the labels of the selected K entries.\n",
    "\n",
    "7- If regression, return the mean of the K labels.\n",
    "\n",
    "8- If classification, return the mode of the K labels."
   ]
  },
  {
   "cell_type": "markdown",
   "id": "0134f814",
   "metadata": {
    "papermill": {
     "duration": 0.009056,
     "end_time": "2022-10-31T08:34:43.608523",
     "exception": false,
     "start_time": "2022-10-31T08:34:43.599467",
     "status": "completed"
    },
    "tags": []
   },
   "source": [
    "# <font color='blue'>Some pros and cons of KNN</font>\n",
    "pros :\n",
    "1- Simplicity\n",
    "\n",
    "2- Non-parametric\n",
    "\n",
    "3- Great Sidekick\n",
    "\n",
    "4- Very Sensitive\n",
    "\n",
    "5- Versatility\n",
    "\n",
    "6- Non-Linear Performance\n",
    "\n",
    "cons:\n",
    "\n",
    "1- Costly Computation : Unfortunately, k Nearest Neighbor is a hungry machine learning algorithm since it has to calculate the proximity between each neighbors for every single value in the dataset.\n",
    "This doesn't mean it's completely unusable, it's just that it falls out of favor and becomes impractical when you enter the world of big data or similar applications.\n",
    "\n",
    "2- RAM Monster : It's not just the CPU that takes a hit with k Nearest Neighbor, RAM also gets occupied when this little monster is working. kNN stores all its values in the RAM and again, you might not notice it with small implementations but try to work on a large database and\n",
    "\n",
    "3- Significant Parameters : Although kNN has few parameters to tune this can trick the analyst. k parameter for neighbor amounts and parameter for how distance is calculated can make a huge difference in the outcomes.\n",
    "\n",
    "4- Small Dimensions Only : If you want to work on datasets with many features this can be problematic with kNN.\n",
    "Let's say you have 1 million rows with 100 classes. With a 30/70 test/training split, kNN will have to calculate 100 subtraction, 100 squares and 1 square root for each row (700.000 training rows). Just gives an idea why it gets difficult with large datasets and high feature/class numbers when kNN is being used\n",
    "\n",
    "5- Equal Treatment : Equal Treatment is almost always good but here is a case.\n",
    "Since kNN is non-parametric and it doesn't make any assumptions, this means all the attributes will be treated as equally important for the results.\n",
    "This is simply not always the case and if you want to navigate around noise in a noisy data kNN may not be suitable for this case.\n",
    "\n",
    "6- Handling Missing Values : KNN can't handle data with missing values unless you apply a process called imputation. This means missing values in your data will be filled with certain numerical values such as averages, ones, zeros etc.\n",
    "This can be a tedious extra task and it can also introduce wrong bias to the data.\n",
    "Luckily, there are readily available tools to impute data in a practical way such as KnnImpute (i.e.: sklearn.impute.KNNImputer) and dealing with missing data is usually just a reality of Data Science."
   ]
  },
  {
   "cell_type": "markdown",
   "id": "88308552",
   "metadata": {
    "papermill": {
     "duration": 0.007793,
     "end_time": "2022-10-31T08:34:43.624094",
     "exception": false,
     "start_time": "2022-10-31T08:34:43.616301",
     "status": "completed"
    },
    "tags": []
   },
   "source": [
    "# <font color='red'>KNN in python - Breast Cancer Dataset</font>"
   ]
  },
  {
   "cell_type": "code",
   "execution_count": 1,
   "id": "0ea7a0a0",
   "metadata": {
    "execution": {
     "iopub.execute_input": "2022-10-31T08:34:43.642789Z",
     "iopub.status.busy": "2022-10-31T08:34:43.641722Z",
     "iopub.status.idle": "2022-10-31T08:34:45.001829Z",
     "shell.execute_reply": "2022-10-31T08:34:45.000178Z"
    },
    "papermill": {
     "duration": 1.373926,
     "end_time": "2022-10-31T08:34:45.005846",
     "exception": false,
     "start_time": "2022-10-31T08:34:43.631920",
     "status": "completed"
    },
    "tags": []
   },
   "outputs": [],
   "source": [
    "%matplotlib inline\n",
    "import numpy as np\n",
    "import pandas as pd\n",
    "import matplotlib.pyplot as plt\n",
    "import seaborn as sns\n",
    "import sklearn\n",
    "import warnings\n",
    "warnings.filterwarnings('ignore')\n",
    "from sklearn.datasets import load_breast_cancer"
   ]
  },
  {
   "cell_type": "code",
   "execution_count": 2,
   "id": "b816efea",
   "metadata": {
    "execution": {
     "iopub.execute_input": "2022-10-31T08:34:45.024580Z",
     "iopub.status.busy": "2022-10-31T08:34:45.023593Z",
     "iopub.status.idle": "2022-10-31T08:34:45.043083Z",
     "shell.execute_reply": "2022-10-31T08:34:45.041645Z"
    },
    "papermill": {
     "duration": 0.032341,
     "end_time": "2022-10-31T08:34:45.046463",
     "exception": false,
     "start_time": "2022-10-31T08:34:45.014122",
     "status": "completed"
    },
    "tags": []
   },
   "outputs": [],
   "source": [
    "cancer = load_breast_cancer()"
   ]
  },
  {
   "cell_type": "code",
   "execution_count": 3,
   "id": "7e4d1884",
   "metadata": {
    "execution": {
     "iopub.execute_input": "2022-10-31T08:34:45.068884Z",
     "iopub.status.busy": "2022-10-31T08:34:45.068012Z",
     "iopub.status.idle": "2022-10-31T08:34:45.080553Z",
     "shell.execute_reply": "2022-10-31T08:34:45.079393Z"
    },
    "papermill": {
     "duration": 0.02784,
     "end_time": "2022-10-31T08:34:45.084109",
     "exception": false,
     "start_time": "2022-10-31T08:34:45.056269",
     "status": "completed"
    },
    "tags": []
   },
   "outputs": [
    {
     "data": {
      "text/plain": [
       "array(['malignant', 'benign'], dtype='<U9')"
      ]
     },
     "execution_count": 3,
     "metadata": {},
     "output_type": "execute_result"
    }
   ],
   "source": [
    "cancer.target_names"
   ]
  },
  {
   "cell_type": "code",
   "execution_count": 4,
   "id": "946af9ed",
   "metadata": {
    "execution": {
     "iopub.execute_input": "2022-10-31T08:34:45.107279Z",
     "iopub.status.busy": "2022-10-31T08:34:45.106360Z",
     "iopub.status.idle": "2022-10-31T08:34:45.115951Z",
     "shell.execute_reply": "2022-10-31T08:34:45.114880Z"
    },
    "papermill": {
     "duration": 0.024002,
     "end_time": "2022-10-31T08:34:45.118461",
     "exception": false,
     "start_time": "2022-10-31T08:34:45.094459",
     "status": "completed"
    },
    "tags": []
   },
   "outputs": [],
   "source": [
    "df = pd.DataFrame(cancer.data, columns=cancer.feature_names)"
   ]
  },
  {
   "cell_type": "code",
   "execution_count": 5,
   "id": "22672c38",
   "metadata": {
    "execution": {
     "iopub.execute_input": "2022-10-31T08:34:45.138201Z",
     "iopub.status.busy": "2022-10-31T08:34:45.137006Z",
     "iopub.status.idle": "2022-10-31T08:34:45.152454Z",
     "shell.execute_reply": "2022-10-31T08:34:45.151039Z"
    },
    "papermill": {
     "duration": 0.028112,
     "end_time": "2022-10-31T08:34:45.154720",
     "exception": false,
     "start_time": "2022-10-31T08:34:45.126608",
     "status": "completed"
    },
    "tags": []
   },
   "outputs": [],
   "source": [
    "df['target']=pd.Series(cancer['target'])"
   ]
  },
  {
   "cell_type": "code",
   "execution_count": 6,
   "id": "8941e2e5",
   "metadata": {
    "execution": {
     "iopub.execute_input": "2022-10-31T08:34:45.173274Z",
     "iopub.status.busy": "2022-10-31T08:34:45.172863Z",
     "iopub.status.idle": "2022-10-31T08:34:45.210438Z",
     "shell.execute_reply": "2022-10-31T08:34:45.209259Z"
    },
    "papermill": {
     "duration": 0.049691,
     "end_time": "2022-10-31T08:34:45.212938",
     "exception": false,
     "start_time": "2022-10-31T08:34:45.163247",
     "status": "completed"
    },
    "tags": []
   },
   "outputs": [
    {
     "data": {
      "text/html": [
       "<div>\n",
       "<style scoped>\n",
       "    .dataframe tbody tr th:only-of-type {\n",
       "        vertical-align: middle;\n",
       "    }\n",
       "\n",
       "    .dataframe tbody tr th {\n",
       "        vertical-align: top;\n",
       "    }\n",
       "\n",
       "    .dataframe thead th {\n",
       "        text-align: right;\n",
       "    }\n",
       "</style>\n",
       "<table border=\"1\" class=\"dataframe\">\n",
       "  <thead>\n",
       "    <tr style=\"text-align: right;\">\n",
       "      <th></th>\n",
       "      <th>mean radius</th>\n",
       "      <th>mean texture</th>\n",
       "      <th>mean perimeter</th>\n",
       "      <th>mean area</th>\n",
       "      <th>mean smoothness</th>\n",
       "      <th>mean compactness</th>\n",
       "      <th>mean concavity</th>\n",
       "      <th>mean concave points</th>\n",
       "      <th>mean symmetry</th>\n",
       "      <th>mean fractal dimension</th>\n",
       "      <th>...</th>\n",
       "      <th>worst texture</th>\n",
       "      <th>worst perimeter</th>\n",
       "      <th>worst area</th>\n",
       "      <th>worst smoothness</th>\n",
       "      <th>worst compactness</th>\n",
       "      <th>worst concavity</th>\n",
       "      <th>worst concave points</th>\n",
       "      <th>worst symmetry</th>\n",
       "      <th>worst fractal dimension</th>\n",
       "      <th>target</th>\n",
       "    </tr>\n",
       "  </thead>\n",
       "  <tbody>\n",
       "    <tr>\n",
       "      <th>0</th>\n",
       "      <td>17.99</td>\n",
       "      <td>10.38</td>\n",
       "      <td>122.80</td>\n",
       "      <td>1001.0</td>\n",
       "      <td>0.11840</td>\n",
       "      <td>0.27760</td>\n",
       "      <td>0.3001</td>\n",
       "      <td>0.14710</td>\n",
       "      <td>0.2419</td>\n",
       "      <td>0.07871</td>\n",
       "      <td>...</td>\n",
       "      <td>17.33</td>\n",
       "      <td>184.60</td>\n",
       "      <td>2019.0</td>\n",
       "      <td>0.1622</td>\n",
       "      <td>0.6656</td>\n",
       "      <td>0.7119</td>\n",
       "      <td>0.2654</td>\n",
       "      <td>0.4601</td>\n",
       "      <td>0.11890</td>\n",
       "      <td>0</td>\n",
       "    </tr>\n",
       "    <tr>\n",
       "      <th>1</th>\n",
       "      <td>20.57</td>\n",
       "      <td>17.77</td>\n",
       "      <td>132.90</td>\n",
       "      <td>1326.0</td>\n",
       "      <td>0.08474</td>\n",
       "      <td>0.07864</td>\n",
       "      <td>0.0869</td>\n",
       "      <td>0.07017</td>\n",
       "      <td>0.1812</td>\n",
       "      <td>0.05667</td>\n",
       "      <td>...</td>\n",
       "      <td>23.41</td>\n",
       "      <td>158.80</td>\n",
       "      <td>1956.0</td>\n",
       "      <td>0.1238</td>\n",
       "      <td>0.1866</td>\n",
       "      <td>0.2416</td>\n",
       "      <td>0.1860</td>\n",
       "      <td>0.2750</td>\n",
       "      <td>0.08902</td>\n",
       "      <td>0</td>\n",
       "    </tr>\n",
       "    <tr>\n",
       "      <th>2</th>\n",
       "      <td>19.69</td>\n",
       "      <td>21.25</td>\n",
       "      <td>130.00</td>\n",
       "      <td>1203.0</td>\n",
       "      <td>0.10960</td>\n",
       "      <td>0.15990</td>\n",
       "      <td>0.1974</td>\n",
       "      <td>0.12790</td>\n",
       "      <td>0.2069</td>\n",
       "      <td>0.05999</td>\n",
       "      <td>...</td>\n",
       "      <td>25.53</td>\n",
       "      <td>152.50</td>\n",
       "      <td>1709.0</td>\n",
       "      <td>0.1444</td>\n",
       "      <td>0.4245</td>\n",
       "      <td>0.4504</td>\n",
       "      <td>0.2430</td>\n",
       "      <td>0.3613</td>\n",
       "      <td>0.08758</td>\n",
       "      <td>0</td>\n",
       "    </tr>\n",
       "    <tr>\n",
       "      <th>3</th>\n",
       "      <td>11.42</td>\n",
       "      <td>20.38</td>\n",
       "      <td>77.58</td>\n",
       "      <td>386.1</td>\n",
       "      <td>0.14250</td>\n",
       "      <td>0.28390</td>\n",
       "      <td>0.2414</td>\n",
       "      <td>0.10520</td>\n",
       "      <td>0.2597</td>\n",
       "      <td>0.09744</td>\n",
       "      <td>...</td>\n",
       "      <td>26.50</td>\n",
       "      <td>98.87</td>\n",
       "      <td>567.7</td>\n",
       "      <td>0.2098</td>\n",
       "      <td>0.8663</td>\n",
       "      <td>0.6869</td>\n",
       "      <td>0.2575</td>\n",
       "      <td>0.6638</td>\n",
       "      <td>0.17300</td>\n",
       "      <td>0</td>\n",
       "    </tr>\n",
       "    <tr>\n",
       "      <th>4</th>\n",
       "      <td>20.29</td>\n",
       "      <td>14.34</td>\n",
       "      <td>135.10</td>\n",
       "      <td>1297.0</td>\n",
       "      <td>0.10030</td>\n",
       "      <td>0.13280</td>\n",
       "      <td>0.1980</td>\n",
       "      <td>0.10430</td>\n",
       "      <td>0.1809</td>\n",
       "      <td>0.05883</td>\n",
       "      <td>...</td>\n",
       "      <td>16.67</td>\n",
       "      <td>152.20</td>\n",
       "      <td>1575.0</td>\n",
       "      <td>0.1374</td>\n",
       "      <td>0.2050</td>\n",
       "      <td>0.4000</td>\n",
       "      <td>0.1625</td>\n",
       "      <td>0.2364</td>\n",
       "      <td>0.07678</td>\n",
       "      <td>0</td>\n",
       "    </tr>\n",
       "  </tbody>\n",
       "</table>\n",
       "<p>5 rows × 31 columns</p>\n",
       "</div>"
      ],
      "text/plain": [
       "   mean radius  mean texture  mean perimeter  mean area  mean smoothness  \\\n",
       "0        17.99         10.38          122.80     1001.0          0.11840   \n",
       "1        20.57         17.77          132.90     1326.0          0.08474   \n",
       "2        19.69         21.25          130.00     1203.0          0.10960   \n",
       "3        11.42         20.38           77.58      386.1          0.14250   \n",
       "4        20.29         14.34          135.10     1297.0          0.10030   \n",
       "\n",
       "   mean compactness  mean concavity  mean concave points  mean symmetry  \\\n",
       "0           0.27760          0.3001              0.14710         0.2419   \n",
       "1           0.07864          0.0869              0.07017         0.1812   \n",
       "2           0.15990          0.1974              0.12790         0.2069   \n",
       "3           0.28390          0.2414              0.10520         0.2597   \n",
       "4           0.13280          0.1980              0.10430         0.1809   \n",
       "\n",
       "   mean fractal dimension  ...  worst texture  worst perimeter  worst area  \\\n",
       "0                 0.07871  ...          17.33           184.60      2019.0   \n",
       "1                 0.05667  ...          23.41           158.80      1956.0   \n",
       "2                 0.05999  ...          25.53           152.50      1709.0   \n",
       "3                 0.09744  ...          26.50            98.87       567.7   \n",
       "4                 0.05883  ...          16.67           152.20      1575.0   \n",
       "\n",
       "   worst smoothness  worst compactness  worst concavity  worst concave points  \\\n",
       "0            0.1622             0.6656           0.7119                0.2654   \n",
       "1            0.1238             0.1866           0.2416                0.1860   \n",
       "2            0.1444             0.4245           0.4504                0.2430   \n",
       "3            0.2098             0.8663           0.6869                0.2575   \n",
       "4            0.1374             0.2050           0.4000                0.1625   \n",
       "\n",
       "   worst symmetry  worst fractal dimension  target  \n",
       "0          0.4601                  0.11890       0  \n",
       "1          0.2750                  0.08902       0  \n",
       "2          0.3613                  0.08758       0  \n",
       "3          0.6638                  0.17300       0  \n",
       "4          0.2364                  0.07678       0  \n",
       "\n",
       "[5 rows x 31 columns]"
      ]
     },
     "execution_count": 6,
     "metadata": {},
     "output_type": "execute_result"
    }
   ],
   "source": [
    "df.head()"
   ]
  },
  {
   "cell_type": "code",
   "execution_count": 7,
   "id": "bb87859a",
   "metadata": {
    "execution": {
     "iopub.execute_input": "2022-10-31T08:34:45.233251Z",
     "iopub.status.busy": "2022-10-31T08:34:45.232579Z",
     "iopub.status.idle": "2022-10-31T08:34:45.296128Z",
     "shell.execute_reply": "2022-10-31T08:34:45.295005Z"
    },
    "papermill": {
     "duration": 0.076685,
     "end_time": "2022-10-31T08:34:45.298870",
     "exception": false,
     "start_time": "2022-10-31T08:34:45.222185",
     "status": "completed"
    },
    "tags": []
   },
   "outputs": [],
   "source": [
    "from sklearn.model_selection import train_test_split"
   ]
  },
  {
   "cell_type": "code",
   "execution_count": 8,
   "id": "c77a32c3",
   "metadata": {
    "execution": {
     "iopub.execute_input": "2022-10-31T08:34:45.319662Z",
     "iopub.status.busy": "2022-10-31T08:34:45.319275Z",
     "iopub.status.idle": "2022-10-31T08:34:45.327224Z",
     "shell.execute_reply": "2022-10-31T08:34:45.325881Z"
    },
    "papermill": {
     "duration": 0.022008,
     "end_time": "2022-10-31T08:34:45.329925",
     "exception": false,
     "start_time": "2022-10-31T08:34:45.307917",
     "status": "completed"
    },
    "tags": []
   },
   "outputs": [],
   "source": [
    "X = df.drop(['target'], axis = 1)\n",
    "y = df['target']"
   ]
  },
  {
   "cell_type": "code",
   "execution_count": 9,
   "id": "8efb8252",
   "metadata": {
    "execution": {
     "iopub.execute_input": "2022-10-31T08:34:45.349405Z",
     "iopub.status.busy": "2022-10-31T08:34:45.348980Z",
     "iopub.status.idle": "2022-10-31T08:34:45.357495Z",
     "shell.execute_reply": "2022-10-31T08:34:45.356422Z"
    },
    "papermill": {
     "duration": 0.021089,
     "end_time": "2022-10-31T08:34:45.359930",
     "exception": false,
     "start_time": "2022-10-31T08:34:45.338841",
     "status": "completed"
    },
    "tags": []
   },
   "outputs": [],
   "source": [
    "X_train, X_test, y_train, y_test = train_test_split(X ,y , random_state=42)"
   ]
  },
  {
   "cell_type": "code",
   "execution_count": 10,
   "id": "2ee7aef1",
   "metadata": {
    "execution": {
     "iopub.execute_input": "2022-10-31T08:34:45.383912Z",
     "iopub.status.busy": "2022-10-31T08:34:45.383385Z",
     "iopub.status.idle": "2022-10-31T08:34:45.389228Z",
     "shell.execute_reply": "2022-10-31T08:34:45.388327Z"
    },
    "papermill": {
     "duration": 0.023813,
     "end_time": "2022-10-31T08:34:45.393934",
     "exception": false,
     "start_time": "2022-10-31T08:34:45.370121",
     "status": "completed"
    },
    "tags": []
   },
   "outputs": [
    {
     "name": "stdout",
     "output_type": "stream",
     "text": [
      "Shape of Train Data: (426, 30)\n",
      "Shape of Test Data: (143, 30)\n"
     ]
    }
   ],
   "source": [
    "print (\"Shape of Train Data:\", X_train.shape)\n",
    "print (\"Shape of Test Data:\", X_test.shape)"
   ]
  },
  {
   "cell_type": "code",
   "execution_count": 11,
   "id": "ee1d7579",
   "metadata": {
    "execution": {
     "iopub.execute_input": "2022-10-31T08:34:45.416455Z",
     "iopub.status.busy": "2022-10-31T08:34:45.416082Z",
     "iopub.status.idle": "2022-10-31T08:34:45.422961Z",
     "shell.execute_reply": "2022-10-31T08:34:45.421788Z"
    },
    "papermill": {
     "duration": 0.020917,
     "end_time": "2022-10-31T08:34:45.425228",
     "exception": false,
     "start_time": "2022-10-31T08:34:45.404311",
     "status": "completed"
    },
    "tags": []
   },
   "outputs": [
    {
     "data": {
      "text/plain": [
       "(426,)"
      ]
     },
     "execution_count": 11,
     "metadata": {},
     "output_type": "execute_result"
    }
   ],
   "source": [
    "y_train.shape"
   ]
  },
  {
   "cell_type": "code",
   "execution_count": 12,
   "id": "144760de",
   "metadata": {
    "execution": {
     "iopub.execute_input": "2022-10-31T08:34:45.446059Z",
     "iopub.status.busy": "2022-10-31T08:34:45.445232Z",
     "iopub.status.idle": "2022-10-31T08:34:45.661496Z",
     "shell.execute_reply": "2022-10-31T08:34:45.660349Z"
    },
    "papermill": {
     "duration": 0.229943,
     "end_time": "2022-10-31T08:34:45.664376",
     "exception": false,
     "start_time": "2022-10-31T08:34:45.434433",
     "status": "completed"
    },
    "tags": []
   },
   "outputs": [
    {
     "data": {
      "text/plain": [
       "<AxesSubplot:xlabel='target', ylabel='count'>"
      ]
     },
     "execution_count": 12,
     "metadata": {},
     "output_type": "execute_result"
    },
    {
     "data": {
      "image/png": "[encoded data removed]",
      "text/plain": [
       "<Figure size 432x288 with 1 Axes>"
      ]
     },
     "metadata": {
      "needs_background": "light"
     },
     "output_type": "display_data"
    }
   ],
   "source": [
    "sns.countplot(y)"
   ]
  },
  {
   "cell_type": "code",
   "execution_count": 13,
   "id": "66530bbd",
   "metadata": {
    "execution": {
     "iopub.execute_input": "2022-10-31T08:34:45.685086Z",
     "iopub.status.busy": "2022-10-31T08:34:45.684659Z",
     "iopub.status.idle": "2022-10-31T08:34:45.820413Z",
     "shell.execute_reply": "2022-10-31T08:34:45.818874Z"
    },
    "papermill": {
     "duration": 0.149315,
     "end_time": "2022-10-31T08:34:45.823225",
     "exception": false,
     "start_time": "2022-10-31T08:34:45.673910",
     "status": "completed"
    },
    "tags": []
   },
   "outputs": [],
   "source": [
    "from sklearn.neighbors import KNeighborsClassifier"
   ]
  },
  {
   "cell_type": "code",
   "execution_count": 14,
   "id": "39c05375",
   "metadata": {
    "execution": {
     "iopub.execute_input": "2022-10-31T08:34:45.844188Z",
     "iopub.status.busy": "2022-10-31T08:34:45.843797Z",
     "iopub.status.idle": "2022-10-31T08:34:45.857610Z",
     "shell.execute_reply": "2022-10-31T08:34:45.856521Z"
    },
    "papermill": {
     "duration": 0.027097,
     "end_time": "2022-10-31T08:34:45.859975",
     "exception": false,
     "start_time": "2022-10-31T08:34:45.832878",
     "status": "completed"
    },
    "tags": []
   },
   "outputs": [
    {
     "data": {
      "text/plain": [
       "KNeighborsClassifier()"
      ]
     },
     "execution_count": 14,
     "metadata": {},
     "output_type": "execute_result"
    }
   ],
   "source": [
    "knn = KNeighborsClassifier()\n",
    "#n_neighbors = 5\n",
    "knn.fit(X_train, y_train)"
   ]
  },
  {
   "cell_type": "code",
   "execution_count": 15,
   "id": "d9659f0c",
   "metadata": {
    "execution": {
     "iopub.execute_input": "2022-10-31T08:34:45.881406Z",
     "iopub.status.busy": "2022-10-31T08:34:45.881007Z",
     "iopub.status.idle": "2022-10-31T08:34:45.904558Z",
     "shell.execute_reply": "2022-10-31T08:34:45.903089Z"
    },
    "papermill": {
     "duration": 0.038712,
     "end_time": "2022-10-31T08:34:45.908390",
     "exception": false,
     "start_time": "2022-10-31T08:34:45.869678",
     "status": "completed"
    },
    "tags": []
   },
   "outputs": [],
   "source": [
    "y_pred = knn.predict(X_test)"
   ]
  },
  {
   "cell_type": "markdown",
   "id": "0ac9b413",
   "metadata": {
    "papermill": {
     "duration": 0.015414,
     "end_time": "2022-10-31T08:34:45.939608",
     "exception": false,
     "start_time": "2022-10-31T08:34:45.924194",
     "status": "completed"
    },
    "tags": []
   },
   "source": [
    "# <font color='green'>knn.score()</font>\n",
    "Returns the mean accuracy on the given test data and labels."
   ]
  },
  {
   "cell_type": "code",
   "execution_count": 16,
   "id": "e1c40d63",
   "metadata": {
    "execution": {
     "iopub.execute_input": "2022-10-31T08:34:45.974481Z",
     "iopub.status.busy": "2022-10-31T08:34:45.972877Z",
     "iopub.status.idle": "2022-10-31T08:34:46.022657Z",
     "shell.execute_reply": "2022-10-31T08:34:46.021116Z"
    },
    "papermill": {
     "duration": 0.070742,
     "end_time": "2022-10-31T08:34:46.026066",
     "exception": false,
     "start_time": "2022-10-31T08:34:45.955324",
     "status": "completed"
    },
    "tags": []
   },
   "outputs": [
    {
     "name": "stdout",
     "output_type": "stream",
     "text": [
      "0.9342723004694836\n",
      "0.965034965034965\n"
     ]
    }
   ],
   "source": [
    "print(knn.score(X_train, y_train))\n",
    "print(knn.score(X_test, y_test))"
   ]
  },
  {
   "cell_type": "markdown",
   "id": "1041f72a",
   "metadata": {
    "papermill": {
     "duration": 0.017024,
     "end_time": "2022-10-31T08:34:46.059890",
     "exception": false,
     "start_time": "2022-10-31T08:34:46.042866",
     "status": "completed"
    },
    "tags": []
   },
   "source": [
    "# <font color='blue'>Model Evaluation</font>"
   ]
  },
  {
   "cell_type": "code",
   "execution_count": 17,
   "id": "aa075053",
   "metadata": {
    "execution": {
     "iopub.execute_input": "2022-10-31T08:34:46.095252Z",
     "iopub.status.busy": "2022-10-31T08:34:46.094505Z",
     "iopub.status.idle": "2022-10-31T08:34:46.103468Z",
     "shell.execute_reply": "2022-10-31T08:34:46.102092Z"
    },
    "papermill": {
     "duration": 0.030412,
     "end_time": "2022-10-31T08:34:46.107225",
     "exception": false,
     "start_time": "2022-10-31T08:34:46.076813",
     "status": "completed"
    },
    "tags": []
   },
   "outputs": [],
   "source": [
    "from sklearn.metrics import confusion_matrix\n",
    "from sklearn.metrics import classification_report"
   ]
  },
  {
   "cell_type": "code",
   "execution_count": 18,
   "id": "4a28c0fa",
   "metadata": {
    "execution": {
     "iopub.execute_input": "2022-10-31T08:34:46.138434Z",
     "iopub.status.busy": "2022-10-31T08:34:46.138019Z",
     "iopub.status.idle": "2022-10-31T08:34:46.147864Z",
     "shell.execute_reply": "2022-10-31T08:34:46.146793Z"
    },
    "papermill": {
     "duration": 0.027218,
     "end_time": "2022-10-31T08:34:46.150931",
     "exception": false,
     "start_time": "2022-10-31T08:34:46.123713",
     "status": "completed"
    },
    "tags": []
   },
   "outputs": [
    {
     "name": "stdout",
     "output_type": "stream",
     "text": [
      "              precision    recall  f1-score   support\n",
      "\n",
      "           0       0.98      0.93      0.95        54\n",
      "           1       0.96      0.99      0.97        89\n",
      "\n",
      "    accuracy                           0.97       143\n",
      "   macro avg       0.97      0.96      0.96       143\n",
      "weighted avg       0.97      0.97      0.96       143\n",
      "\n"
     ]
    }
   ],
   "source": [
    "print(classification_report(y_test, y_pred))"
   ]
  },
  {
   "cell_type": "code",
   "execution_count": 19,
   "id": "8902c35f",
   "metadata": {
    "execution": {
     "iopub.execute_input": "2022-10-31T08:34:46.173844Z",
     "iopub.status.busy": "2022-10-31T08:34:46.173113Z",
     "iopub.status.idle": "2022-10-31T08:34:46.416186Z",
     "shell.execute_reply": "2022-10-31T08:34:46.415228Z"
    },
    "papermill": {
     "duration": 0.25702,
     "end_time": "2022-10-31T08:34:46.418537",
     "exception": false,
     "start_time": "2022-10-31T08:34:46.161517",
     "status": "completed"
    },
    "tags": []
   },
   "outputs": [
    {
     "data": {
      "text/plain": [
       "<AxesSubplot:>"
      ]
     },
     "execution_count": 19,
     "metadata": {},
     "output_type": "execute_result"
    },
    {
     "data": {
      "image/png": "[encoded data removed]",
      "text/plain": [
       "<Figure size 432x288 with 2 Axes>"
      ]
     },
     "metadata": {
      "needs_background": "light"
     },
     "output_type": "display_data"
    }
   ],
   "source": [
    "cm =confusion_matrix(y_test, y_pred)\n",
    "sns.heatmap(cm, square=True , annot=True)"
   ]
  },
  {
   "cell_type": "markdown",
   "id": "bdf8776b",
   "metadata": {
    "papermill": {
     "duration": 0.010036,
     "end_time": "2022-10-31T08:34:46.439187",
     "exception": false,
     "start_time": "2022-10-31T08:34:46.429151",
     "status": "completed"
    },
    "tags": []
   },
   "source": [
    "# <font color='red'> How do we select the right value of K? </font>\n",
    "We don’t have a particular method for determining the correct value of K. Here, we’ll try to test the model’s accuracy for different K values. The value of K that delivers the best accuracy for both training and testing data is selected.\n",
    "\n",
    "## <font color='red'> It is recommended to always select an odd value of K </font>\n",
    "When the value of K is set to even, a situation may arise in which the elements from both groups are equal.In this condition, the model would be unable to do the correct classification for you. Here the model will randomly assign any of the two classes to this new unknown data.\n",
    "Choosing an odd value for K is preferred because such a state of equality between the two classes would never occur here. Due to the fact that one of the two groups would still be in the majority, the value of K is selected as odd."
   ]
  },
  {
   "cell_type": "markdown",
   "id": "605410a4",
   "metadata": {
    "papermill": {
     "duration": 0.009992,
     "end_time": "2022-10-31T08:34:46.459574",
     "exception": false,
     "start_time": "2022-10-31T08:34:46.449582",
     "status": "completed"
    },
    "tags": []
   },
   "source": [
    "# <img src=\"https://editor.analyticsvidhya.com/uploads/369941_-pMkFM7U6GX22WUCLG5g2g.png\" width=\"50%\"/>"
   ]
  },
  {
   "cell_type": "markdown",
   "id": "ef3da3df",
   "metadata": {
    "papermill": {
     "duration": 0.009937,
     "end_time": "2022-10-31T08:34:46.479682",
     "exception": false,
     "start_time": "2022-10-31T08:34:46.469745",
     "status": "completed"
    },
    "tags": []
   },
   "source": [
    "# <font color='green'>The impact of selecting a smaller or larger K value on the model</font>\n",
    "<font color = \"Orange\"> Larger K value : The case of underfitting occurs when the value of k is increased. In this case, the model would be unable to correctly learn on the training data. </font>\n",
    "\n",
    "<font color = \"purple\">Smaller k value : The condition of overfitting occurs when the value of k is smaller. The model will capture all of the training data, including noise. The model will perform poorly for the test data in this scenario.</font>"
   ]
  },
  {
   "cell_type": "markdown",
   "id": "f8206df3",
   "metadata": {
    "papermill": {
     "duration": 0.009886,
     "end_time": "2022-10-31T08:34:46.499810",
     "exception": false,
     "start_time": "2022-10-31T08:34:46.489924",
     "status": "completed"
    },
    "tags": []
   },
   "source": [
    "# <img src=\"data:image/png;base64,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\" width=\"50%\"/>\n"
   ]
  },
  {
   "cell_type": "markdown",
   "id": "a3f0713c",
   "metadata": {
    "papermill": {
     "duration": 0.010545,
     "end_time": "2022-10-31T08:34:46.520580",
     "exception": false,
     "start_time": "2022-10-31T08:34:46.510035",
     "status": "completed"
    },
    "tags": []
   },
   "source": [
    "# <font color='blue'>How does KNN work for Regression problem statements?</font>\n",
    "KNN employs a mean/average method for predicting the value of new data. Based on the value of K, it would consider all of the nearest neighbours.\n",
    "The algorithm attempts to calculate the mean for all the nearest neighbours’ values until it has identified all the nearest neighbours within a certain range of the K value.\n",
    "\n",
    "Consider the diagram below, where the value of k is set to 3. It will now calculate the mean (52) based on the values of these neighbours (50, 55, and 51) and allocate this value to the unknown data.\n",
    "# <img src=\"https://editor.analyticsvidhya.com/uploads/89953Screenshot%202021-05-13%20at%206.53.40%20AM.png\" width=\"50%\"/>\n"
   ]
  },
  {
   "cell_type": "markdown",
   "id": "bde0df36",
   "metadata": {
    "papermill": {
     "duration": 0.010582,
     "end_time": "2022-10-31T08:34:46.541533",
     "exception": false,
     "start_time": "2022-10-31T08:34:46.530951",
     "status": "completed"
    },
    "tags": []
   },
   "source": [
    "# <font color='red'>Optimal value of K</font>"
   ]
  },
  {
   "cell_type": "code",
   "execution_count": 20,
   "id": "9628149e",
   "metadata": {
    "execution": {
     "iopub.execute_input": "2022-10-31T08:34:46.564448Z",
     "iopub.status.busy": "2022-10-31T08:34:46.563729Z",
     "iopub.status.idle": "2022-10-31T08:34:47.199134Z",
     "shell.execute_reply": "2022-10-31T08:34:47.197806Z"
    },
    "papermill": {
     "duration": 0.650798,
     "end_time": "2022-10-31T08:34:47.202728",
     "exception": false,
     "start_time": "2022-10-31T08:34:46.551930",
     "status": "completed"
    },
    "tags": []
   },
   "outputs": [],
   "source": [
    "error_rate = []\n",
    "# Might take some time\n",
    "for i in range(1,40):\n",
    "    knn = KNeighborsClassifier(n_neighbors=i)\n",
    "    knn.fit(X_train,y_train)\n",
    "    pred_i = knn.predict(X_test)\n",
    "    error_rate.append(np.mean(pred_i != y_test))"
   ]
  },
  {
   "cell_type": "code",
   "execution_count": 21,
   "id": "1886a957",
   "metadata": {
    "execution": {
     "iopub.execute_input": "2022-10-31T08:34:47.239908Z",
     "iopub.status.busy": "2022-10-31T08:34:47.239198Z",
     "iopub.status.idle": "2022-10-31T08:34:47.490935Z",
     "shell.execute_reply": "2022-10-31T08:34:47.489678Z"
    },
    "papermill": {
     "duration": 0.273161,
     "end_time": "2022-10-31T08:34:47.493359",
     "exception": false,
     "start_time": "2022-10-31T08:34:47.220198",
     "status": "completed"
    },
    "tags": []
   },
   "outputs": [
    {
     "data": {
      "text/plain": [
       "Text(0, 0.5, 'Error Rate')"
      ]
     },
     "execution_count": 21,
     "metadata": {},
     "output_type": "execute_result"
    },
    {
     "data": {
      "image/png": "[encoded data removed]",
      "text/plain": [
       "<Figure size 720x432 with 1 Axes>"
      ]
     },
     "metadata": {
      "needs_background": "light"
     },
     "output_type": "display_data"
    }
   ],
   "source": [
    "plt.figure(figsize=(10,6))\n",
    "plt.plot(range(1,40),error_rate,color='blue', linestyle='dashed', marker='o', markerfacecolor='red', markersize=10)\n",
    "plt.title('Error Rate vs. K Value')\n",
    "plt.xlabel('K')\n",
    "plt.ylabel('Error Rate')"
   ]
  },
  {
   "cell_type": "code",
   "execution_count": 22,
   "id": "ec26a054",
   "metadata": {
    "execution": {
     "iopub.execute_input": "2022-10-31T08:34:47.517326Z",
     "iopub.status.busy": "2022-10-31T08:34:47.516883Z",
     "iopub.status.idle": "2022-10-31T08:34:47.523710Z",
     "shell.execute_reply": "2022-10-31T08:34:47.522625Z"
    },
    "papermill": {
     "duration": 0.021844,
     "end_time": "2022-10-31T08:34:47.526110",
     "exception": false,
     "start_time": "2022-10-31T08:34:47.504266",
     "status": "completed"
    },
    "tags": []
   },
   "outputs": [],
   "source": [
    "knn = KNeighborsClassifier(n_neighbors=11)"
   ]
  },
  {
   "cell_type": "code",
   "execution_count": 23,
   "id": "42638f27",
   "metadata": {
    "execution": {
     "iopub.execute_input": "2022-10-31T08:34:47.550517Z",
     "iopub.status.busy": "2022-10-31T08:34:47.549736Z",
     "iopub.status.idle": "2022-10-31T08:34:47.559220Z",
     "shell.execute_reply": "2022-10-31T08:34:47.558191Z"
    },
    "papermill": {
     "duration": 0.024273,
     "end_time": "2022-10-31T08:34:47.561428",
     "exception": false,
     "start_time": "2022-10-31T08:34:47.537155",
     "status": "completed"
    },
    "tags": []
   },
   "outputs": [
    {
     "data": {
      "text/plain": [
       "KNeighborsClassifier(n_neighbors=11)"
      ]
     },
     "execution_count": 23,
     "metadata": {},
     "output_type": "execute_result"
    }
   ],
   "source": [
    "knn.fit(X_train, y_train)"
   ]
  },
  {
   "cell_type": "code",
   "execution_count": 24,
   "id": "c8271e88",
   "metadata": {
    "execution": {
     "iopub.execute_input": "2022-10-31T08:34:47.585254Z",
     "iopub.status.busy": "2022-10-31T08:34:47.584860Z",
     "iopub.status.idle": "2022-10-31T08:34:47.623455Z",
     "shell.execute_reply": "2022-10-31T08:34:47.621761Z"
    },
    "papermill": {
     "duration": 0.054566,
     "end_time": "2022-10-31T08:34:47.627044",
     "exception": false,
     "start_time": "2022-10-31T08:34:47.572478",
     "status": "completed"
    },
    "tags": []
   },
   "outputs": [
    {
     "data": {
      "text/plain": [
       "0.9342723004694836"
      ]
     },
     "execution_count": 24,
     "metadata": {},
     "output_type": "execute_result"
    }
   ],
   "source": [
    "knn.score(X_train, y_train)"
   ]
  },
  {
   "cell_type": "code",
   "execution_count": 25,
   "id": "75287f47",
   "metadata": {
    "execution": {
     "iopub.execute_input": "2022-10-31T08:34:47.668254Z",
     "iopub.status.busy": "2022-10-31T08:34:47.666582Z",
     "iopub.status.idle": "2022-10-31T08:34:47.689597Z",
     "shell.execute_reply": "2022-10-31T08:34:47.688318Z"
    },
    "papermill": {
     "duration": 0.046625,
     "end_time": "2022-10-31T08:34:47.692903",
     "exception": false,
     "start_time": "2022-10-31T08:34:47.646278",
     "status": "completed"
    },
    "tags": []
   },
   "outputs": [
    {
     "data": {
      "text/plain": [
       "0.9790209790209791"
      ]
     },
     "execution_count": 25,
     "metadata": {},
     "output_type": "execute_result"
    }
   ],
   "source": [
    "knn.score(X_test, y_test)"
   ]
  },
  {
   "cell_type": "code",
   "execution_count": 26,
   "id": "fe30cd7a",
   "metadata": {
    "execution": {
     "iopub.execute_input": "2022-10-31T08:34:47.733173Z",
     "iopub.status.busy": "2022-10-31T08:34:47.732606Z",
     "iopub.status.idle": "2022-10-31T08:34:47.752476Z",
     "shell.execute_reply": "2022-10-31T08:34:47.751195Z"
    },
    "papermill": {
     "duration": 0.043958,
     "end_time": "2022-10-31T08:34:47.755845",
     "exception": false,
     "start_time": "2022-10-31T08:34:47.711887",
     "status": "completed"
    },
    "tags": []
   },
   "outputs": [],
   "source": [
    "y_pred2 = knn.predict(X_test)"
   ]
  },
  {
   "cell_type": "code",
   "execution_count": 27,
   "id": "c8c5f2e5",
   "metadata": {
    "execution": {
     "iopub.execute_input": "2022-10-31T08:34:47.796166Z",
     "iopub.status.busy": "2022-10-31T08:34:47.795615Z",
     "iopub.status.idle": "2022-10-31T08:34:47.812914Z",
     "shell.execute_reply": "2022-10-31T08:34:47.810850Z"
    },
    "papermill": {
     "duration": 0.042158,
     "end_time": "2022-10-31T08:34:47.816999",
     "exception": false,
     "start_time": "2022-10-31T08:34:47.774841",
     "status": "completed"
    },
    "tags": []
   },
   "outputs": [
    {
     "name": "stdout",
     "output_type": "stream",
     "text": [
      "              precision    recall  f1-score   support\n",
      "\n",
      "           0       0.98      0.96      0.97        54\n",
      "           1       0.98      0.99      0.98        89\n",
      "\n",
      "    accuracy                           0.98       143\n",
      "   macro avg       0.98      0.98      0.98       143\n",
      "weighted avg       0.98      0.98      0.98       143\n",
      "\n"
     ]
    }
   ],
   "source": [
    "print(classification_report(y_test, y_pred2))"
   ]
  },
  {
   "cell_type": "code",
   "execution_count": 28,
   "id": "dd23242c",
   "metadata": {
    "execution": {
     "iopub.execute_input": "2022-10-31T08:34:47.859032Z",
     "iopub.status.busy": "2022-10-31T08:34:47.858464Z",
     "iopub.status.idle": "2022-10-31T08:34:48.097813Z",
     "shell.execute_reply": "2022-10-31T08:34:48.096881Z"
    },
    "papermill": {
     "duration": 0.262984,
     "end_time": "2022-10-31T08:34:48.100244",
     "exception": false,
     "start_time": "2022-10-31T08:34:47.837260",
     "status": "completed"
    },
    "scrolled": true,
    "tags": []
   },
   "outputs": [
    {
     "data": {
      "text/plain": [
       "<AxesSubplot:>"
      ]
     },
     "execution_count": 28,
     "metadata": {},
     "output_type": "execute_result"
    },
    {
     "data": {
      "image/png": "[encoded data removed]",
      "text/plain": [
       "<Figure size 432x288 with 2 Axes>"
      ]
     },
     "metadata": {
      "needs_background": "light"
     },
     "output_type": "display_data"
    }
   ],
   "source": [
    "cm =confusion_matrix(y_test, y_pred2)\n",
    "sns.heatmap(cm, square=True , annot=True)"
   ]
  }
 ],
 "metadata": {
  "kernelspec": {
   "display_name": "Python 3",
   "language": "python",
   "name": "python3"
  },
  "language_info": {
   "codemirror_mode": {
    "name": "ipython",
    "version": 3
   },
   "file_extension": ".py",
   "mimetype": "text/x-python",
   "name": "python",
   "nbconvert_exporter": "python",
   "pygments_lexer": "ipython3",
   "version": "3.7.12"
  },
  "papermill": {
   "default_parameters": {},
   "duration": 13.980059,
   "end_time": "2022-10-31T08:34:48.834350",
   "environment_variables": {},
   "exception": null,
   "input_path": "__notebook__.ipynb",
   "output_path": "__notebook__.ipynb",
   "parameters": {},
   "start_time": "2022-10-31T08:34:34.854291",
   "version": "2.3.4"
  }
 },
 "nbformat": 4,
 "nbformat_minor": 5
}
