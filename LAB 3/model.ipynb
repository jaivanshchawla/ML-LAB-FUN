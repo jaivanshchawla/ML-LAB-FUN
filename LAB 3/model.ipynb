{
 "cells": [
  {
   "cell_type": "markdown",
   "id": "86f9b8a8",
   "metadata": {},
   "source": [
    "HOUSING DATA LINEAR REGRESSION"
   ]
  },
  {
   "cell_type": "code",
   "execution_count": 1,
   "id": "a58a40c9",
   "metadata": {},
   "outputs": [
    {
     "name": "stdout",
     "output_type": "stream",
     "text": [
      "   SquareFeet  Bedrooms  Bathrooms Neighborhood  YearBuilt          Price\n",
      "0        2126         4          1        Rural       1969  215355.283618\n",
      "1        2459         3          2        Rural       1980  195014.221626\n",
      "2        1860         2          1       Suburb       1970  306891.012076\n",
      "3        2294         2          1        Urban       1996  206786.787153\n",
      "4        2130         5          2       Suburb       2001  272436.239065\n",
      "         SquareFeet      Bedrooms     Bathrooms     YearBuilt          Price\n",
      "count  50000.000000  50000.000000  50000.000000  50000.000000   50000.000000\n",
      "mean    2006.374680      3.498700      1.995420   1985.404420  224827.325151\n",
      "std      575.513241      1.116326      0.815851     20.719377   76141.842966\n",
      "min     1000.000000      2.000000      1.000000   1950.000000  -36588.165397\n",
      "25%     1513.000000      3.000000      1.000000   1967.000000  169955.860225\n",
      "50%     2007.000000      3.000000      2.000000   1985.000000  225052.141166\n",
      "75%     2506.000000      4.000000      3.000000   2003.000000  279373.630052\n",
      "max     2999.000000      5.000000      3.000000   2021.000000  492195.259972\n"
     ]
    }
   ],
   "source": [
    "import pandas as pd\n",
    "df = pd.read_csv(r\"C:\\Users\\Jaivansh Chawla\\Documents\\COLLEGE\\ML LAB\\LAB 3\\housing_price_dataset.csv\")\n",
    "print(df.head())\n",
    "print(df.describe())"
   ]
  }
 ],
 "metadata": {
  "kernelspec": {
   "display_name": "Python 3",
   "language": "python",
   "name": "python3"
  },
  "language_info": {
   "codemirror_mode": {
    "name": "ipython",
    "version": 3
   },
   "file_extension": ".py",
   "mimetype": "text/x-python",
   "name": "python",
   "nbconvert_exporter": "python",
   "pygments_lexer": "ipython3",
   "version": "3.12.3"
  }
 },
 "nbformat": 4,
 "nbformat_minor": 5
}
