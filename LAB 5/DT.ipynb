{
 "cells": [
  {
   "cell_type": "code",
   "execution_count": 1,
   "id": "1f7a0076",
   "metadata": {},
   "outputs": [],
   "source": [
    "# One-liner: Import libraries, set options, and lock a random seed for reproducibility.\n",
    "import numpy as np, pandas as pd, matplotlib.pyplot as plt, seaborn as sns\n",
    "from sklearn.datasets import load_wine\n",
    "from sklearn.model_selection import train_test_split\n",
    "from sklearn.tree import DecisionTreeClassifier, plot_tree\n",
    "from sklearn.metrics import accuracy_score, precision_score, recall_score, f1_score, classification_report, confusion_matrix\n",
    "from sklearn.model_selection import StratifiedKFold\n",
    "np.random.seed(42)\n",
    "plt.rcParams[\"figure.figsize\"] = (8,5)\n"
   ]
  },
  {
   "cell_type": "code",
   "execution_count": 2,
   "id": "f1bd48de",
   "metadata": {},
   "outputs": [
    {
     "data": {
      "text/plain": [
       "((178, 13),\n",
       " target\n",
       " 0    59\n",
       " 1    71\n",
       " 2    48\n",
       " Name: count, dtype: int64)"
      ]
     },
     "execution_count": 2,
     "metadata": {},
     "output_type": "execute_result"
    }
   ],
   "source": [
    "# One-liner: Load the Wine dataset (178 samples, 13 features, 3 classes) and preview shapes.\n",
    "wine = load_wine()\n",
    "X = pd.DataFrame(wine.data, columns=wine.feature_names)\n",
    "y = pd.Series(wine.target, name=\"target\")\n",
    "X.shape, y.value_counts().sort_index()\n"
   ]
  },
  {
   "cell_type": "code",
   "execution_count": 3,
   "id": "d7c745c6",
   "metadata": {},
   "outputs": [
    {
     "data": {
      "text/plain": [
       "(124, 36, 18)"
      ]
     },
     "execution_count": 3,
     "metadata": {},
     "output_type": "execute_result"
    }
   ],
   "source": [
    "# One-liner: Split data into 70% train, 20% validation, 10% test with stratification.\n",
    "X_train, X_temp, y_train, y_temp = train_test_split(X, y, test_size=0.30, stratify=y, random_state=42)\n",
    "X_val, X_test, y_val, y_test = train_test_split(X_temp, y_temp, test_size=1/3, stratify=y_temp, random_state=42)\n",
    "\n",
    "len(X_train), len(X_val), len(X_test)\n"
   ]
  },
  {
   "cell_type": "code",
   "execution_count": 4,
   "id": "d5605349",
   "metadata": {},
   "outputs": [],
   "source": [
    "# One-liner: Define helpers to compute metrics and to format results as a comparison table row.\n",
    "def eval_metrics(y_true, y_pred, average=\"macro\"):\n",
    "    return {\n",
    "        \"accuracy\": accuracy_score(y_true, y_pred),\n",
    "        \"precision\": precision_score(y_true, y_pred, average=average, zero_division=0),\n",
    "        \"recall\": recall_score(y_true, y_pred, average=average, zero_division=0),\n",
    "        \"f1\": f1_score(y_true, y_pred, average=average, zero_division=0),\n",
    "    }\n",
    "\n",
    "def add_result(results, label, y_true, y_pred):\n",
    "    m = eval_metrics(y_true, y_pred)\n",
    "    results.append({\"model\": label, **m})\n"
   ]
  },
  {
   "cell_type": "code",
   "execution_count": null,
   "id": "6f331ff4",
   "metadata": {},
   "outputs": [],
   "source": [
    "# One-liner: Train baseline trees (gini and entropy) and evaluate on validation and test sets.\n",
    "results = []\n",
    "\n",
    "# Baseline CART (gini)\n",
    "cart = DecisionTreeClassifier(criterion=\"gini\", random_state=42)\n",
    "cart.fit(X_train, y_train)\n",
    "add_result(results, \"CART (gini) – VAL\", y_val, cart.predict(X_val))\n",
    "add_result(results, \"CART (gini) – TEST\", y_test, cart.predict(X_test))\n",
    "\n",
    "# “ID3-like” (entropy) — still binary splits in sklearn\n",
    "id3_like = DecisionTreeClassifier(criterion=\"entropy\", random_state=42)\n",
    "id3_like.fit(X_train, y_train)\n",
    "add_result(results, \"ID3-like (entropy) – VAL\", y_val, id3_like.predict(X_val))\n",
    "add_result(results, \"ID3-like (entropy) – TEST\", y_test, id3_like.predict(X_test))\n",
    "\n",
    "pd.DataFrame(results)\n"
   ]
  }
 ],
 "metadata": {
  "kernelspec": {
   "display_name": "Python 3",
   "language": "python",
   "name": "python3"
  },
  "language_info": {
   "codemirror_mode": {
    "name": "ipython",
    "version": 3
   },
   "file_extension": ".py",
   "mimetype": "text/x-python",
   "name": "python",
   "nbconvert_exporter": "python",
   "pygments_lexer": "ipython3",
   "version": "3.12.3"
  }
 },
 "nbformat": 4,
 "nbformat_minor": 5
}
