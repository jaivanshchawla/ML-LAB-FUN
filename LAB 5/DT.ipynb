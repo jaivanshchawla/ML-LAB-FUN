{
 "cells": [
  {
   "cell_type": "code",
   "execution_count": 1,
   "id": "1f7a0076",
   "metadata": {},
   "outputs": [],
   "source": [
    "# One-liner: Import libraries, set options, and lock a random seed for reproducibility.\n",
    "import numpy as np, pandas as pd, matplotlib.pyplot as plt, seaborn as sns\n",
    "from sklearn.datasets import load_wine\n",
    "from sklearn.model_selection import train_test_split\n",
    "from sklearn.tree import DecisionTreeClassifier, plot_tree\n",
    "from sklearn.metrics import accuracy_score, precision_score, recall_score, f1_score, classification_report, confusion_matrix\n",
    "from sklearn.model_selection import StratifiedKFold\n",
    "np.random.seed(42)\n",
    "plt.rcParams[\"figure.figsize\"] = (8,5)\n"
   ]
  },
  {
   "cell_type": "code",
   "execution_count": 2,
   "id": "f1bd48de",
   "metadata": {},
   "outputs": [
    {
     "data": {
      "text/plain": [
       "((178, 13),\n",
       " target\n",
       " 0    59\n",
       " 1    71\n",
       " 2    48\n",
       " Name: count, dtype: int64)"
      ]
     },
     "execution_count": 2,
     "metadata": {},
     "output_type": "execute_result"
    }
   ],
   "source": [
    "# One-liner: Load the Wine dataset (178 samples, 13 features, 3 classes) and preview shapes.\n",
    "wine = load_wine()\n",
    "X = pd.DataFrame(wine.data, columns=wine.feature_names)\n",
    "y = pd.Series(wine.target, name=\"target\")\n",
    "X.shape, y.value_counts().sort_index()\n"
   ]
  },
  {
   "cell_type": "code",
   "execution_count": 3,
   "id": "d7c745c6",
   "metadata": {},
   "outputs": [
    {
     "data": {
      "text/plain": [
       "(124, 36, 18)"
      ]
     },
     "execution_count": 3,
     "metadata": {},
     "output_type": "execute_result"
    }
   ],
   "source": [
    "# One-liner: Split data into 70% train, 20% validation, 10% test with stratification.\n",
    "X_train, X_temp, y_train, y_temp = train_test_split(X, y, test_size=0.30, stratify=y, random_state=42)\n",
    "X_val, X_test, y_val, y_test = train_test_split(X_temp, y_temp, test_size=1/3, stratify=y_temp, random_state=42)\n",
    "\n",
    "len(X_train), len(X_val), len(X_test)\n"
   ]
  },
  {
   "cell_type": "code",
   "execution_count": 4,
   "id": "d5605349",
   "metadata": {},
   "outputs": [],
   "source": [
    "# One-liner: Define helpers to compute metrics and to format results as a comparison table row.\n",
    "def eval_metrics(y_true, y_pred, average=\"macro\"):\n",
    "    return {\n",
    "        \"accuracy\": accuracy_score(y_true, y_pred),\n",
    "        \"precision\": precision_score(y_true, y_pred, average=average, zero_division=0),\n",
    "        \"recall\": recall_score(y_true, y_pred, average=average, zero_division=0),\n",
    "        \"f1\": f1_score(y_true, y_pred, average=average, zero_division=0),\n",
    "    }\n",
    "\n",
    "def add_result(results, label, y_true, y_pred):\n",
    "    m = eval_metrics(y_true, y_pred)\n",
    "    results.append({\"model\": label, **m})\n"
   ]
  },
  {
   "cell_type": "code",
   "execution_count": 5,
   "id": "6f331ff4",
   "metadata": {},
   "outputs": [
    {
     "data": {
      "text/html": [
       "<div>\n",
       "<style scoped>\n",
       "    .dataframe tbody tr th:only-of-type {\n",
       "        vertical-align: middle;\n",
       "    }\n",
       "\n",
       "    .dataframe tbody tr th {\n",
       "        vertical-align: top;\n",
       "    }\n",
       "\n",
       "    .dataframe thead th {\n",
       "        text-align: right;\n",
       "    }\n",
       "</style>\n",
       "<table border=\"1\" class=\"dataframe\">\n",
       "  <thead>\n",
       "    <tr style=\"text-align: right;\">\n",
       "      <th></th>\n",
       "      <th>model</th>\n",
       "      <th>accuracy</th>\n",
       "      <th>precision</th>\n",
       "      <th>recall</th>\n",
       "      <th>f1</th>\n",
       "    </tr>\n",
       "  </thead>\n",
       "  <tbody>\n",
       "    <tr>\n",
       "      <th>0</th>\n",
       "      <td>CART (gini) – VAL</td>\n",
       "      <td>0.944444</td>\n",
       "      <td>0.958333</td>\n",
       "      <td>0.938889</td>\n",
       "      <td>0.945741</td>\n",
       "    </tr>\n",
       "    <tr>\n",
       "      <th>1</th>\n",
       "      <td>CART (gini) – TEST</td>\n",
       "      <td>1.000000</td>\n",
       "      <td>1.000000</td>\n",
       "      <td>1.000000</td>\n",
       "      <td>1.000000</td>\n",
       "    </tr>\n",
       "    <tr>\n",
       "      <th>2</th>\n",
       "      <td>ID3-like (entropy) – VAL</td>\n",
       "      <td>0.888889</td>\n",
       "      <td>0.888889</td>\n",
       "      <td>0.900794</td>\n",
       "      <td>0.890637</td>\n",
       "    </tr>\n",
       "    <tr>\n",
       "      <th>3</th>\n",
       "      <td>ID3-like (entropy) – TEST</td>\n",
       "      <td>0.944444</td>\n",
       "      <td>0.958333</td>\n",
       "      <td>0.944444</td>\n",
       "      <td>0.947475</td>\n",
       "    </tr>\n",
       "  </tbody>\n",
       "</table>\n",
       "</div>"
      ],
      "text/plain": [
       "                       model  accuracy  precision    recall        f1\n",
       "0          CART (gini) – VAL  0.944444   0.958333  0.938889  0.945741\n",
       "1         CART (gini) – TEST  1.000000   1.000000  1.000000  1.000000\n",
       "2   ID3-like (entropy) – VAL  0.888889   0.888889  0.900794  0.890637\n",
       "3  ID3-like (entropy) – TEST  0.944444   0.958333  0.944444  0.947475"
      ]
     },
     "execution_count": 5,
     "metadata": {},
     "output_type": "execute_result"
    }
   ],
   "source": [
    "# One-liner: Train baseline trees (gini and entropy) and evaluate on validation and test sets.\n",
    "results = []\n",
    "\n",
    "# Baseline CART (gini)\n",
    "cart = DecisionTreeClassifier(criterion=\"gini\", random_state=42)\n",
    "cart.fit(X_train, y_train)\n",
    "add_result(results, \"CART (gini) – VAL\", y_val, cart.predict(X_val))\n",
    "add_result(results, \"CART (gini) – TEST\", y_test, cart.predict(X_test))\n",
    "\n",
    "# “ID3-like” (entropy) — still binary splits in sklearn\n",
    "id3_like = DecisionTreeClassifier(criterion=\"entropy\", random_state=42)\n",
    "id3_like.fit(X_train, y_train)\n",
    "add_result(results, \"ID3-like (entropy) – VAL\", y_val, id3_like.predict(X_val))\n",
    "add_result(results, \"ID3-like (entropy) – TEST\", y_test, id3_like.predict(X_test))\n",
    "\n",
    "pd.DataFrame(results)\n"
   ]
  },
  {
   "cell_type": "code",
   "execution_count": 6,
   "id": "4f9a6f5a",
   "metadata": {},
   "outputs": [
    {
     "data": {
      "image/png": "[encoded data removed]",
      "text/plain": [
       "<Figure size 800x500 with 1 Axes>"
      ]
     },
     "metadata": {},
     "output_type": "display_data"
    },
    {
     "data": {
      "text/plain": [
       "(3, 3)"
      ]
     },
     "execution_count": 6,
     "metadata": {},
     "output_type": "execute_result"
    }
   ],
   "source": [
    "# One-liner: Sweep max_depth to visualize train vs validation accuracy (over/underfitting behavior).\n",
    "depths = range(1, 16)\n",
    "train_acc_gini, val_acc_gini = [], []\n",
    "train_acc_entropy, val_acc_entropy = [], []\n",
    "\n",
    "for d in depths:\n",
    "    g = DecisionTreeClassifier(criterion=\"gini\", max_depth=d, random_state=42).fit(X_train, y_train)\n",
    "    e = DecisionTreeClassifier(criterion=\"entropy\", max_depth=d, random_state=42).fit(X_train, y_train)\n",
    "    train_acc_gini.append(accuracy_score(y_train, g.predict(X_train)))\n",
    "    val_acc_gini.append(accuracy_score(y_val, g.predict(X_val)))\n",
    "    train_acc_entropy.append(accuracy_score(y_train, e.predict(X_train)))\n",
    "    val_acc_entropy.append(accuracy_score(y_val, e.predict(X_val)))\n",
    "\n",
    "plt.plot(depths, train_acc_gini, marker=\"o\", label=\"Train (gini)\")\n",
    "plt.plot(depths, val_acc_gini, marker=\"o\", linestyle=\"--\", label=\"Val (gini)\")\n",
    "plt.plot(depths, train_acc_entropy, marker=\"s\", label=\"Train (entropy)\")\n",
    "plt.plot(depths, val_acc_entropy, marker=\"s\", linestyle=\"--\", label=\"Val (entropy)\")\n",
    "plt.xlabel(\"max_depth\"); plt.ylabel(\"Accuracy\"); plt.title(\"Depth vs Accuracy (Over/Underfitting)\")\n",
    "plt.legend(); plt.grid(True); plt.show()\n",
    "\n",
    "# Pick depth at/near peak val accuracy (example: best for gini and entropy)\n",
    "best_depth_gini = depths[int(np.argmax(val_acc_gini))]\n",
    "best_depth_entropy = depths[int(np.argmax(val_acc_entropy))]\n",
    "best_depth_gini, best_depth_entropy\n"
   ]
  },
  {
   "cell_type": "code",
   "execution_count": 7,
   "id": "9c50c085",
   "metadata": {},
   "outputs": [
    {
     "data": {
      "text/html": [
       "<div>\n",
       "<style scoped>\n",
       "    .dataframe tbody tr th:only-of-type {\n",
       "        vertical-align: middle;\n",
       "    }\n",
       "\n",
       "    .dataframe tbody tr th {\n",
       "        vertical-align: top;\n",
       "    }\n",
       "\n",
       "    .dataframe thead th {\n",
       "        text-align: right;\n",
       "    }\n",
       "</style>\n",
       "<table border=\"1\" class=\"dataframe\">\n",
       "  <thead>\n",
       "    <tr style=\"text-align: right;\">\n",
       "      <th></th>\n",
       "      <th>model</th>\n",
       "      <th>accuracy</th>\n",
       "      <th>precision</th>\n",
       "      <th>recall</th>\n",
       "      <th>f1</th>\n",
       "    </tr>\n",
       "  </thead>\n",
       "  <tbody>\n",
       "    <tr>\n",
       "      <th>0</th>\n",
       "      <td>CART (gini) – VAL</td>\n",
       "      <td>0.944444</td>\n",
       "      <td>0.958333</td>\n",
       "      <td>0.938889</td>\n",
       "      <td>0.945741</td>\n",
       "    </tr>\n",
       "    <tr>\n",
       "      <th>1</th>\n",
       "      <td>CART (gini) – TEST</td>\n",
       "      <td>1.000000</td>\n",
       "      <td>1.000000</td>\n",
       "      <td>1.000000</td>\n",
       "      <td>1.000000</td>\n",
       "    </tr>\n",
       "    <tr>\n",
       "      <th>2</th>\n",
       "      <td>ID3-like (entropy) – VAL</td>\n",
       "      <td>0.888889</td>\n",
       "      <td>0.888889</td>\n",
       "      <td>0.900794</td>\n",
       "      <td>0.890637</td>\n",
       "    </tr>\n",
       "    <tr>\n",
       "      <th>3</th>\n",
       "      <td>ID3-like (entropy) – TEST</td>\n",
       "      <td>0.944444</td>\n",
       "      <td>0.958333</td>\n",
       "      <td>0.944444</td>\n",
       "      <td>0.947475</td>\n",
       "    </tr>\n",
       "    <tr>\n",
       "      <th>4</th>\n",
       "      <td>CART (gini, max_features=6) – VAL</td>\n",
       "      <td>0.944444</td>\n",
       "      <td>0.945887</td>\n",
       "      <td>0.948413</td>\n",
       "      <td>0.945825</td>\n",
       "    </tr>\n",
       "    <tr>\n",
       "      <th>5</th>\n",
       "      <td>ID3-like (entropy, max_features=6) – VAL</td>\n",
       "      <td>0.861111</td>\n",
       "      <td>0.879902</td>\n",
       "      <td>0.848413</td>\n",
       "      <td>0.857670</td>\n",
       "    </tr>\n",
       "  </tbody>\n",
       "</table>\n",
       "</div>"
      ],
      "text/plain": [
       "                                      model  accuracy  precision    recall  \\\n",
       "0                         CART (gini) – VAL  0.944444   0.958333  0.938889   \n",
       "1                        CART (gini) – TEST  1.000000   1.000000  1.000000   \n",
       "2                  ID3-like (entropy) – VAL  0.888889   0.888889  0.900794   \n",
       "3                 ID3-like (entropy) – TEST  0.944444   0.958333  0.944444   \n",
       "4         CART (gini, max_features=6) – VAL  0.944444   0.945887  0.948413   \n",
       "5  ID3-like (entropy, max_features=6) – VAL  0.861111   0.879902  0.848413   \n",
       "\n",
       "         f1  \n",
       "0  0.945741  \n",
       "1  1.000000  \n",
       "2  0.890637  \n",
       "3  0.947475  \n",
       "4  0.945825  \n",
       "5  0.857670  "
      ]
     },
     "execution_count": 7,
     "metadata": {},
     "output_type": "execute_result"
    }
   ],
   "source": [
    "# One-liner: Constrain tree to roughly half of the features (max_features=6) to reduce complexity.\n",
    "half_feats = 6  # ~ half of 13\n",
    "g_half = DecisionTreeClassifier(criterion=\"gini\", max_features=half_feats, random_state=42).fit(X_train, y_train)\n",
    "e_half = DecisionTreeClassifier(criterion=\"entropy\", max_features=half_feats, random_state=42).fit(X_train, y_train)\n",
    "\n",
    "add_result(results, f\"CART (gini, max_features={half_feats}) – VAL\", y_val, g_half.predict(X_val))\n",
    "add_result(results, f\"ID3-like (entropy, max_features={half_feats}) – VAL\", y_val, e_half.predict(X_val))\n",
    "pd.DataFrame(results)\n"
   ]
  }
 ],
 "metadata": {
  "kernelspec": {
   "display_name": "Python 3",
   "language": "python",
   "name": "python3"
  },
  "language_info": {
   "codemirror_mode": {
    "name": "ipython",
    "version": 3
   },
   "file_extension": ".py",
   "mimetype": "text/x-python",
   "name": "python",
   "nbconvert_exporter": "python",
   "pygments_lexer": "ipython3",
   "version": "3.12.3"
  }
 },
 "nbformat": 4,
 "nbformat_minor": 5
}
