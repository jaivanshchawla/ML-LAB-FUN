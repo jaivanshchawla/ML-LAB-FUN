{
 "cells": [
  {
   "cell_type": "code",
   "execution_count": null,
   "id": "1f7a0076",
   "metadata": {},
   "outputs": [],
   "source": [
    "# One-liner: Import libraries, set options, and lock a random seed for reproducibility.\n",
    "import numpy as np, pandas as pd, matplotlib.pyplot as plt, seaborn as sns\n",
    "from sklearn.datasets import load_wine\n",
    "from sklearn.model_selection import train_test_split\n",
    "from sklearn.tree import DecisionTreeClassifier, plot_tree\n",
    "from sklearn.metrics import accuracy_score, precision_score, recall_score, f1_score, classification_report, confusion_matrix\n",
    "from sklearn.model_selection import StratifiedKFold\n",
    "np.random.seed(42)\n",
    "plt.rcParams[\"figure.figsize\"] = (8,5)\n"
   ]
  }
 ],
 "metadata": {
  "language_info": {
   "name": "python"
  }
 },
 "nbformat": 4,
 "nbformat_minor": 5
}
