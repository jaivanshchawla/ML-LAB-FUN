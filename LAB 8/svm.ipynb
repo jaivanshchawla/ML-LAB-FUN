{
 "cells": [
  {
   "cell_type": "code",
   "execution_count": null,
   "id": "82d60972",
   "metadata": {},
   "outputs": [],
   "source": [
    "import numpy as np\n",
    "import pandas as pd\n",
    "import matplotlib.pyplot as plt\n",
    "from sklearn.datasets import load_iris, make_circles, make_moons\n",
    "from sklearn.model_selection import train_test_split, GridSearchCV\n",
    "from sklearn.preprocessing import StandardScaler\n",
    "from sklearn.svm import SVC\n",
    "from sklearn.metrics import classification_report, confusion_matrix, accuracy_score\n",
    "import seaborn as sns\n",
    "import warnings\n",
    "warnings.filterwarnings('ignore')\n",
    "\n",
    "# Load Iris dataset (using 2 features for visualization)\n",
    "iris = load_iris()\n",
    "X = iris.data[:, :2]  # Use only first 2 features for 2D visualization\n",
    "y = iris.target\n",
    "\n",
    "# Split and scale\n",
    "X_train, X_test, y_train, y_test = train_test_split(X, y, test_size=0.3, random_state=42)\n",
    "scaler = StandardScaler()\n",
    "X_train_scaled = scaler.fit_transform(X_train)\n",
    "X_test_scaled = scaler.transform(X_test)\n",
    "\n",
    "print(f\"✓ Dataset: {X.shape[0]} samples, {X.shape[1]} features (2D for visualization)\")\n",
    "print(f\"✓ Train: {len(X_train)}, Test: {len(X_test)}, Classes: {len(np.unique(y))}\")"
   ]
  }
 ],
 "metadata": {
  "language_info": {
   "name": "python"
  }
 },
 "nbformat": 4,
 "nbformat_minor": 5
}
